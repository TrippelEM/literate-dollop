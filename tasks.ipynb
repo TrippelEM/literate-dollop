{
 "cells": [
  {
   "metadata": {},
   "cell_type": "code",
   "outputs": [],
   "execution_count": null,
   "source": "",
   "id": "5ef0ab44c72ab290"
  }
 ],
 "metadata": {},
 "nbformat": 4,
 "nbformat_minor": 5
}
